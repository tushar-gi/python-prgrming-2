{
  "nbformat": 4,
  "nbformat_minor": 0,
  "metadata": {
    "colab": {
      "provenance": [],
      "authorship_tag": "ABX9TyPiEmLDP8/20VlfIA2FjTZU",
      "include_colab_link": true
    },
    "kernelspec": {
      "name": "python3",
      "display_name": "Python 3"
    },
    "language_info": {
      "name": "python"
    }
  },
  "cells": [
    {
      "cell_type": "markdown",
      "metadata": {
        "id": "view-in-github",
        "colab_type": "text"
      },
      "source": [
        "<a href=\"https://colab.research.google.com/github/tushar-gi/python-prgrming-2/blob/main/tusha_week_4.ipynb\" target=\"_parent\"><img src=\"https://colab.research.google.com/assets/colab-badge.svg\" alt=\"Open In Colab\"/></a>"
      ]
    },
    {
      "cell_type": "code",
      "execution_count": 1,
      "metadata": {
        "colab": {
          "base_uri": "https://localhost:8080/"
        },
        "id": "pSOC2yunxxZa",
        "outputId": "04042044-56ab-4806-9e33-458cc7660248"
      },
      "outputs": [
        {
          "output_type": "stream",
          "name": "stdout",
          "text": [
            "180 28\n"
          ]
        }
      ],
      "source": [
        "class Vehicle:\n",
        "    def __init__(self, max_speed, mileage):\n",
        "        self.max_speed = max_speed\n",
        "        self.mileage = mileage\n",
        "        \n",
        "        \n",
        "bike = Vehicle(180, 28)\n",
        "print(bike.max_speed, bike.mileage)"
      ]
    },
    {
      "cell_type": "code",
      "source": [
        "class Vehicle:\n",
        "    pass"
      ],
      "metadata": {
        "id": "BdRliZ-Zx6a0"
      },
      "execution_count": null,
      "outputs": []
    },
    {
      "cell_type": "code",
      "source": [
        "class Vehicle:\n",
        "\n",
        "    def __init__(self, name, max_speed, mileage):\n",
        "        self.name = name\n",
        "        self.max_speed = max_speed\n",
        "        self.mileage = mileage\n",
        "\n",
        "class Bus(Vehicle):\n",
        "    pass\n",
        "\n",
        "bus = Bus(\"Mega_Bus \", 250, 15)\n",
        "print(\"Vehicle Name:\", bus.name, \"Speed:\", bus.max_speed, \"Mileage:\",bus.mileage)"
      ],
      "metadata": {
        "colab": {
          "base_uri": "https://localhost:8080/"
        },
        "id": "GqKhG72fx-Ta",
        "outputId": "de512e07-15da-48fe-a053-7f26bcc91628"
      },
      "execution_count": 2,
      "outputs": [
        {
          "output_type": "stream",
          "name": "stdout",
          "text": [
            "Vehicle Name: Mega_Bus  Speed: 250 Mileage: 15\n"
          ]
        }
      ]
    },
    {
      "cell_type": "code",
      "source": [
        "class Vehicle:\n",
        "    def __init__(self, name, max_speed, mileage):\n",
        "        self.name = name\n",
        "        self.max_speed = max_speed\n",
        "        self.mileage = mileage\n",
        "\n",
        "    def seating_capacity(self, capacity):\n",
        "        return f\"The seating capacity of a {self.name} is {capacity} passengers\"\n",
        "\n",
        "class Bus(Vehicle):\n",
        "    \n",
        "    def seating_capacity(self, capacity=50):\n",
        "        return super().seating_capacity(capacity=50)\n",
        "bus = Bus(\"Mega Bus\", 180, 12)\n",
        "print(bus.seating_capacity())"
      ],
      "metadata": {
        "colab": {
          "base_uri": "https://localhost:8080/"
        },
        "id": "qZ_FKAdzyEYZ",
        "outputId": "b560a68e-15f4-4cf3-e2c3-c53b3ad5ddbb"
      },
      "execution_count": 3,
      "outputs": [
        {
          "output_type": "stream",
          "name": "stdout",
          "text": [
            "The seating capacity of a Mega Bus is 50 passengers\n"
          ]
        }
      ]
    },
    {
      "cell_type": "code",
      "source": [
        "class Vehicle:\n",
        "    def __init__(self, name, mileage, capacity):\n",
        "        self.name = name\n",
        "        self.mileage = mileage\n",
        "        self.capacity = capacity\n",
        "\n",
        "    def fare(self):\n",
        "        return self.capacity * 100\n",
        "\n",
        "class Bus(Vehicle):\n",
        "    def fare(self):\n",
        "        amount = super().fare()\n",
        "        amount += amount * 10 / 100\n",
        "        return amount\n",
        "\n",
        "bus = Bus(\"Mega bus\", 12, 50)\n",
        "print(\"Total Bus fare is:\", bus.fare())"
      ],
      "metadata": {
        "colab": {
          "base_uri": "https://localhost:8080/"
        },
        "id": "mkobp954yKOJ",
        "outputId": "f9cec251-7b79-40ba-a909-57f2ebb253a9"
      },
      "execution_count": 4,
      "outputs": [
        {
          "output_type": "stream",
          "name": "stdout",
          "text": [
            "Total Bus fare is: 5500.0\n"
          ]
        }
      ]
    }
  ]
}